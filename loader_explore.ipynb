{
 "cells": [
  {
   "cell_type": "code",
   "execution_count": 19,
   "metadata": {},
   "outputs": [],
   "source": [
    "import torch\n",
    "import torchaudio\n",
    "from torch.utils.data import Dataset\n",
    "from utils import plot_waveform, plot_spectrogram,plot_specgram, play_audio\n",
    "import matplotlib.pyplot as plt\n",
    "from typing import Callable\n"
   ]
  },
  {
   "cell_type": "code",
   "execution_count": 31,
   "metadata": {},
   "outputs": [
    {
     "data": {
      "text/plain": [
       "2"
      ]
     },
     "execution_count": 31,
     "metadata": {},
     "output_type": "execute_result"
    }
   ],
   "source": [
    "r = (torchaudio.info('./hecker.mp3'))\n",
    "r.num_channels"
   ]
  },
  {
   "cell_type": "code",
   "execution_count": 3,
   "metadata": {},
   "outputs": [],
   "source": [
    "waveform, sample_rate = torchaudio.load('./hecker.mp3')\n",
    "\n",
    "# plot_waveform(waveform, sample_rate)\n",
    "# plot_specgram(waveform, sample_rate)\n",
    "# play_audio(waveform, sample_rate)"
   ]
  },
  {
   "cell_type": "code",
   "execution_count": 17,
   "metadata": {},
   "outputs": [
    {
     "data": {
      "text/plain": [
       "torch.Tensor"
      ]
     },
     "execution_count": 17,
     "metadata": {},
     "output_type": "execute_result"
    }
   ],
   "source": [
    "type(waveform)"
   ]
  },
  {
   "cell_type": "code",
   "execution_count": 43,
   "metadata": {},
   "outputs": [
    {
     "name": "stdout",
     "output_type": "stream",
     "text": [
      "torch.Size([400])\n"
     ]
    }
   ],
   "source": [
    "class AudioLoaderFixed(Dataset):\n",
    "    def __init__(self,audio_path: str,\n",
    "                 clip_length: int, \n",
    "                 transformations: Callable[[torch.Tensor], torch.Tensor] = None):\n",
    "        \"\"\"Dataset for fixed length audio samples\n",
    "\n",
    "        Args:\n",
    "            audio_path (str): path to file\n",
    "            clip_length (int): length of sample\n",
    "            transformations (Callable[[torch.Tensor], torch.Tensor]): augmentation transformations\n",
    "        \"\"\"\n",
    "        self.audio_path = audio_path\n",
    "        self.clip_length = clip_length\n",
    "        \n",
    "        info = torchaudio.info(audio_path)\n",
    "        self.audio_length = info.num_frames\n",
    "        self.num_channels = info.num_channels\n",
    "        self.transformations = transformations\n",
    "        \n",
    "    def __len__(self):\n",
    "        return self.audio_length - self.clip_length\n",
    "    \n",
    "    def __getitem__(self,idx):\n",
    "\n",
    "        t = torchaudio.load(self.audio_path,\n",
    "                            frame_offset=idx,\n",
    "                            num_frames=self.clip_length)[0]\n",
    "        if self.num_channels > 1:\n",
    "            t = t[0]\n",
    "        if self.transformations:\n",
    "            t = self.transformations(t)\n",
    "        return t        \n",
    "        \n",
    "        \n",
    "        \n",
    "audio_test = AudioLoaderFixed('./hecker.mp3',400)       \n",
    "print(audio_test[3000].shape)"
   ]
  },
  {
   "cell_type": "code",
   "execution_count": 35,
   "metadata": {},
   "outputs": [],
   "source": [
    "def foo(x):\n",
    "    return 3"
   ]
  },
  {
   "cell_type": "code",
   "execution_count": 15,
   "metadata": {},
   "outputs": [
    {
     "data": {
      "text/plain": [
       "function"
      ]
     },
     "execution_count": 15,
     "metadata": {},
     "output_type": "execute_result"
    }
   ],
   "source": [
    "type(foo)"
   ]
  },
  {
   "cell_type": "code",
   "execution_count": null,
   "metadata": {},
   "outputs": [],
   "source": []
  }
 ],
 "metadata": {
  "interpreter": {
   "hash": "ec606fc085fe86530c35cef2373cc343a007c8f5f2b5ac3b7e79a3e17604272c"
  },
  "kernelspec": {
   "display_name": "Python 3.7.10 64-bit ('lab1': conda)",
   "language": "python",
   "name": "python3"
  },
  "language_info": {
   "codemirror_mode": {
    "name": "ipython",
    "version": 3
   },
   "file_extension": ".py",
   "mimetype": "text/x-python",
   "name": "python",
   "nbconvert_exporter": "python",
   "pygments_lexer": "ipython3",
   "version": "3.7.10"
  },
  "orig_nbformat": 4
 },
 "nbformat": 4,
 "nbformat_minor": 2
}
